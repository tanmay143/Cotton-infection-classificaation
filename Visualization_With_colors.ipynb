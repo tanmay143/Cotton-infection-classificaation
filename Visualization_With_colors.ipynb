{
  "nbformat": 4,
  "nbformat_minor": 0,
  "metadata": {
    "colab": {
      "provenance": [],
      "authorship_tag": "ABX9TyMEtxP2u8rAXSXCCWb1NvFG",
      "include_colab_link": true
    },
    "kernelspec": {
      "name": "python3",
      "display_name": "Python 3"
    },
    "language_info": {
      "name": "python"
    }
  },
  "cells": [
    {
      "cell_type": "markdown",
      "metadata": {
        "id": "view-in-github",
        "colab_type": "text"
      },
      "source": [
        "<a href=\"https://colab.research.google.com/github/tanmay143/Cotton-infection-classificaation/blob/main/Visualization_With_colors.ipynb\" target=\"_parent\"><img src=\"https://colab.research.google.com/assets/colab-badge.svg\" alt=\"Open In Colab\"/></a>"
      ]
    },
    {
      "cell_type": "code",
      "execution_count": 1,
      "metadata": {
        "id": "X7aXCllpajHi",
        "colab": {
          "base_uri": "https://localhost:8080/"
        },
        "outputId": "8910b359-b49e-4c4c-de5d-88cc5ff3084b"
      },
      "outputs": [
        {
          "output_type": "stream",
          "name": "stdout",
          "text": [
            "Drive already mounted at /content/drive/; to attempt to forcibly remount, call drive.mount(\"/content/drive/\", force_remount=True).\n"
          ]
        }
      ],
      "source": [
        "from google.colab import drive\n",
        "drive.mount('/content/drive/')"
      ]
    },
    {
      "cell_type": "code",
      "source": [
        "pip install pylibjpeg pylibjpeg-libjpeg pydicom"
      ],
      "metadata": {
        "id": "vbfLLd8salf5",
        "colab": {
          "base_uri": "https://localhost:8080/"
        },
        "outputId": "c0cf267c-e2d3-4cc1-989f-4ebe89279267"
      },
      "execution_count": 2,
      "outputs": [
        {
          "output_type": "stream",
          "name": "stdout",
          "text": [
            "Looking in indexes: https://pypi.org/simple, https://us-python.pkg.dev/colab-wheels/public/simple/\n",
            "Collecting pylibjpeg\n",
            "  Downloading pylibjpeg-1.4.0-py3-none-any.whl (28 kB)\n",
            "Collecting pylibjpeg-libjpeg\n",
            "  Downloading pylibjpeg_libjpeg-1.3.2-cp38-cp38-manylinux_2_17_x86_64.manylinux2014_x86_64.whl (4.3 MB)\n",
            "\u001b[2K     \u001b[90m━━━━━━━━━━━━━━━━━━━━━━━━━━━━━━━━━━━━━━━━\u001b[0m \u001b[32m4.3/4.3 MB\u001b[0m \u001b[31m25.8 MB/s\u001b[0m eta \u001b[36m0:00:00\u001b[0m\n",
            "\u001b[?25hCollecting pydicom\n",
            "  Downloading pydicom-2.3.1-py3-none-any.whl (2.0 MB)\n",
            "\u001b[2K     \u001b[90m━━━━━━━━━━━━━━━━━━━━━━━━━━━━━━━━━━━━━━━━\u001b[0m \u001b[32m2.0/2.0 MB\u001b[0m \u001b[31m51.8 MB/s\u001b[0m eta \u001b[36m0:00:00\u001b[0m\n",
            "\u001b[?25hRequirement already satisfied: numpy in /usr/local/lib/python3.8/dist-packages (from pylibjpeg) (1.21.6)\n",
            "Collecting numpy\n",
            "  Downloading numpy-1.24.1-cp38-cp38-manylinux_2_17_x86_64.manylinux2014_x86_64.whl (17.3 MB)\n",
            "\u001b[2K     \u001b[90m━━━━━━━━━━━━━━━━━━━━━━━━━━━━━━━━━━━━━━━━\u001b[0m \u001b[32m17.3/17.3 MB\u001b[0m \u001b[31m40.2 MB/s\u001b[0m eta \u001b[36m0:00:00\u001b[0m\n",
            "\u001b[?25hInstalling collected packages: pydicom, numpy, pylibjpeg-libjpeg, pylibjpeg\n",
            "  Attempting uninstall: numpy\n",
            "    Found existing installation: numpy 1.21.6\n",
            "    Uninstalling numpy-1.21.6:\n",
            "      Successfully uninstalled numpy-1.21.6\n",
            "\u001b[31mERROR: pip's dependency resolver does not currently take into account all the packages that are installed. This behaviour is the source of the following dependency conflicts.\n",
            "scipy 1.7.3 requires numpy<1.23.0,>=1.16.5, but you have numpy 1.24.1 which is incompatible.\n",
            "numba 0.56.4 requires numpy<1.24,>=1.18, but you have numpy 1.24.1 which is incompatible.\u001b[0m\u001b[31m\n",
            "\u001b[0mSuccessfully installed numpy-1.24.1 pydicom-2.3.1 pylibjpeg-1.4.0 pylibjpeg-libjpeg-1.3.2\n"
          ]
        }
      ]
    },
    {
      "cell_type": "code",
      "source": [
        "from pydicom import dcmread\n",
        "from pydicom.data import get_testdata_file\n",
        "import os\n",
        "import pandas as pd\n",
        "import numpy as np\n",
        "import matplotlib.pyplot as plt"
      ],
      "metadata": {
        "id": "aFQbU0FokgJ9"
      },
      "execution_count": 2,
      "outputs": []
    },
    {
      "cell_type": "code",
      "source": [
        "from skimage.segmentation import clear_border\n",
        "from skimage import measure\n",
        "from skimage.measure import label,regionprops\n",
        "from scipy import ndimage as ndi\n",
        "from scipy.ndimage import measurements, center_of_mass, binary_dilation, zoom\n",
        "import plotly.graph_objects as go"
      ],
      "metadata": {
        "colab": {
          "base_uri": "https://localhost:8080/"
        },
        "id": "4iywCXeTk99V",
        "outputId": "9453c220-ae09-4c98-a2fa-b7b620bc065b"
      },
      "execution_count": 4,
      "outputs": [
        {
          "output_type": "stream",
          "name": "stderr",
          "text": [
            "/usr/local/lib/python3.8/dist-packages/scipy/__init__.py:146: UserWarning: A NumPy version >=1.16.5 and <1.23.0 is required for this version of SciPy (detected version 1.24.1\n",
            "  warnings.warn(f\"A NumPy version >={np_minversion} and <{np_maxversion}\"\n"
          ]
        }
      ]
    },
    {
      "cell_type": "code",
      "source": [
        "path=\"/content/drive/MyDrive/CT_SCANS_N_REPORTS\"\n",
        "patients=os.listdir(path)"
      ],
      "metadata": {
        "id": "fES328aMkyuW"
      },
      "execution_count": 3,
      "outputs": []
    },
    {
      "cell_type": "code",
      "source": [
        "for i,patient in enumerate(patients[:1]):\n",
        "    t=path+'/'+patient+'/CT/2'\n",
        "    if i == 3:\n",
        "      t=path+'/'+patient+'/CT/1'\n",
        "    slices = [(dcmread(t + '/' + s)) for s in os.listdir(t)]\n",
        "    slices.sort(key = lambda x: int(x.ImagePositionPatient[2]))"
      ],
      "metadata": {
        "id": "4cH8l93slX_y"
      },
      "execution_count": 5,
      "outputs": []
    },
    {
      "cell_type": "code",
      "source": [
        "mask= [(slice.pixel_array < 1500) for slice in slices]"
      ],
      "metadata": {
        "id": "8p_UkSuvlb6z"
      },
      "execution_count": 6,
      "outputs": []
    },
    {
      "cell_type": "code",
      "source": [
        "mask=np.vectorize(clear_border,signature='(n,m)->(n,m)')(mask)\n",
        "mask_labeled=np.vectorize(label, signature='(n,m)->(n,m)')(mask)"
      ],
      "metadata": {
        "id": "Dfl6D480k-wv"
      },
      "execution_count": 8,
      "outputs": []
    },
    {
      "cell_type": "code",
      "source": [
        "plt.pcolormesh(mask_labeled[50])"
      ],
      "metadata": {
        "colab": {
          "base_uri": "https://localhost:8080/",
          "height": 283
        },
        "id": "zv5XW46blsiV",
        "outputId": "95b41e3e-fa34-4767-b68d-7cc8e7a2d27a"
      },
      "execution_count": 10,
      "outputs": [
        {
          "output_type": "execute_result",
          "data": {
            "text/plain": [
              "<matplotlib.collections.QuadMesh at 0x7f97363b3ee0>"
            ]
          },
          "metadata": {},
          "execution_count": 10
        },
        {
          "output_type": "display_data",
          "data": {
            "text/plain": [
              "<Figure size 432x288 with 1 Axes>"
            ],
            "image/png": "[encoded data removed]"
          },
          "metadata": {
            "needs_background": "light"
          }
        }
      ]
    },
    {
      "cell_type": "code",
      "source": [
        "def delete_table(slc):\n",
        "    new_slc = slc.copy()\n",
        "    labels = label(slc, background=0)\n",
        "    idxs = np.unique(labels)[1:]\n",
        "    COM_ys = np.array([center_of_mass(labels==i)[0] for i in idxs])\n",
        "    for idx, COM_y in zip(idxs, COM_ys):\n",
        "        if (COM_y > 0.8*slc.shape[0]):\n",
        "            new_slc[labels==idx] = 0\n",
        "    return new_slc"
      ],
      "metadata": {
        "id": "Dj9BwB2Gmhnm"
      },
      "execution_count": 17,
      "outputs": []
    },
    {
      "cell_type": "code",
      "source": [
        "mask_l=np.vectorize(delete_table, signature='(n,m)->(n,m)')(mask_labeled)"
      ],
      "metadata": {
        "id": "-GVsGaV5mb_O"
      },
      "execution_count": 19,
      "outputs": []
    },
    {
      "cell_type": "code",
      "source": [
        "im = zoom(1*(mask_l), (0.35,0.35,0.35))"
      ],
      "metadata": {
        "id": "1GyLpgmSl5Qt"
      },
      "execution_count": 20,
      "outputs": []
    },
    {
      "cell_type": "code",
      "source": [
        "z, y, x = [np.arange(i) for i in im.shape]"
      ],
      "metadata": {
        "id": "vpY1a9jXmFfR"
      },
      "execution_count": 21,
      "outputs": []
    },
    {
      "cell_type": "code",
      "source": [
        "X,Y,Z = np.meshgrid(x,y,z, indexing='ij')"
      ],
      "metadata": {
        "id": "u6Qk_ZJSmwkl"
      },
      "execution_count": 23,
      "outputs": []
    },
    {
      "cell_type": "code",
      "source": [
        "fig = go.Figure(data=go.Volume(\n",
        "    x=X.flatten(),\n",
        "    y=Y.flatten(),\n",
        "    z=Z.flatten(),\n",
        "    value=np.transpose(im,(1,2,0)).flatten(),\n",
        "    isomin=0.1,\n",
        "    opacity=0.1, # needs to be small to see through all surfaces\n",
        "    surface_count=17, # needs to be a large number for good volume rendering\n",
        "    ))\n",
        "fig.write_html(\"test.html\")"
      ],
      "metadata": {
        "id": "qTpvXkcMmH3u"
      },
      "execution_count": 24,
      "outputs": []
    },
    {
      "cell_type": "code",
      "source": [],
      "metadata": {
        "id": "rJn9-RKFmraD"
      },
      "execution_count": null,
      "outputs": []
    }
  ]
}